{
 "cells": [
  {
   "cell_type": "markdown",
   "id": "86b17960",
   "metadata": {
    "papermill": {
     "duration": 0.010763,
     "end_time": "2022-07-01T15:58:14.396927",
     "exception": false,
     "start_time": "2022-07-01T15:58:14.386164",
     "status": "completed"
    },
    "tags": []
   },
   "source": [
    "# Time Series Forecasting using the NOAA Weather Data of JFK Airport (New York)\n",
    "\n",
    "This notebook relates to the NOAA Weather Dataset - JFK Airport (New York). The dataset contains 114,546 hourly observations of 12 local climatological variables (such as temperature and wind speed) collected at JFK airport. This dataset can be obtained for free from the IBM Developer [Data Asset Exchange](https://developer.ibm.com/exchanges/data/all/jfk-weather-data/).\n",
    "\n",
    "In this notebook we explore approaches to predicting future temperatures by using the time-series dataset.\n",
    "\n",
    "### Table of Contents:\n",
    "* [1. Read the Cleaned Data](#cell1)\n",
    "* [2. Explore Baseline Models](#cell2)\n",
    "* [3. Train Statistical Time-series Analysis Models](#cell3)\n",
    "* [Authors](#cell4)\n",
    "\n",
    "#### Import required modules\n",
    "\n",
    "Import and configure the required modules."
   ]
  },
  {
   "cell_type": "code",
   "execution_count": 1,
   "id": "c098760f",
   "metadata": {
    "execution": {
     "iopub.execute_input": "2022-07-01T15:58:14.412859Z",
     "iopub.status.busy": "2022-07-01T15:58:14.412126Z",
     "iopub.status.idle": "2022-07-01T15:58:27.314810Z",
     "shell.execute_reply": "2022-07-01T15:58:27.315361Z"
    },
    "papermill": {
     "duration": 12.913685,
     "end_time": "2022-07-01T15:58:27.315645",
     "exception": false,
     "start_time": "2022-07-01T15:58:14.401960",
     "status": "completed"
    },
    "tags": []
   },
   "outputs": [
    {
     "name": "stdout",
     "output_type": "stream",
     "text": [
      "Requirement already satisfied: statsmodels in /Users/patelchess79/opt/anaconda3/lib/python3.8/site-packages (0.12.2)\r\n",
      "Requirement already satisfied: pandas>=0.21 in /Users/patelchess79/opt/anaconda3/lib/python3.8/site-packages (from statsmodels) (1.2.4)\r\n",
      "Requirement already satisfied: patsy>=0.5 in /Users/patelchess79/opt/anaconda3/lib/python3.8/site-packages (from statsmodels) (0.5.1)\r\n",
      "Requirement already satisfied: scipy>=1.1 in /Users/patelchess79/opt/anaconda3/lib/python3.8/site-packages (from statsmodels) (1.6.2)\r\n",
      "Requirement already satisfied: numpy>=1.15 in /Users/patelchess79/opt/anaconda3/lib/python3.8/site-packages (from statsmodels) (1.20.1)\r\n",
      "Requirement already satisfied: python-dateutil>=2.7.3 in /Users/patelchess79/opt/anaconda3/lib/python3.8/site-packages (from pandas>=0.21->statsmodels) (2.8.1)\r\n",
      "Requirement already satisfied: pytz>=2017.3 in /Users/patelchess79/opt/anaconda3/lib/python3.8/site-packages (from pandas>=0.21->statsmodels) (2021.1)\r\n",
      "Requirement already satisfied: six in /Users/patelchess79/opt/anaconda3/lib/python3.8/site-packages (from patsy>=0.5->statsmodels) (1.15.0)\r\n"
     ]
    },
    {
     "name": "stdout",
     "output_type": "stream",
     "text": [
      "Collecting sklearn\r\n"
     ]
    },
    {
     "name": "stdout",
     "output_type": "stream",
     "text": [
      "  Downloading sklearn-0.0.tar.gz (1.1 kB)\r\n"
     ]
    },
    {
     "name": "stdout",
     "output_type": "stream",
     "text": [
      "Requirement already satisfied: scikit-learn in /Users/patelchess79/opt/anaconda3/lib/python3.8/site-packages (from sklearn) (0.24.1)\r\n"
     ]
    },
    {
     "name": "stdout",
     "output_type": "stream",
     "text": [
      "Requirement already satisfied: joblib>=0.11 in /Users/patelchess79/opt/anaconda3/lib/python3.8/site-packages (from scikit-learn->sklearn) (1.0.1)\r\n",
      "Requirement already satisfied: numpy>=1.13.3 in /Users/patelchess79/opt/anaconda3/lib/python3.8/site-packages (from scikit-learn->sklearn) (1.20.1)\r\n",
      "Requirement already satisfied: threadpoolctl>=2.0.0 in /Users/patelchess79/opt/anaconda3/lib/python3.8/site-packages (from scikit-learn->sklearn) (2.1.0)\r\n",
      "Requirement already satisfied: scipy>=0.19.1 in /Users/patelchess79/opt/anaconda3/lib/python3.8/site-packages (from scikit-learn->sklearn) (1.6.2)\r\n",
      "Building wheels for collected packages: sklearn\r\n",
      "  Building wheel for sklearn (setup.py) ... \u001b[?25l"
     ]
    },
    {
     "name": "stdout",
     "output_type": "stream",
     "text": [
      "-"
     ]
    },
    {
     "name": "stdout",
     "output_type": "stream",
     "text": [
      "\b \b\\"
     ]
    },
    {
     "name": "stdout",
     "output_type": "stream",
     "text": [
      "\b \b|"
     ]
    },
    {
     "name": "stdout",
     "output_type": "stream",
     "text": [
      "\b \b/"
     ]
    },
    {
     "name": "stdout",
     "output_type": "stream",
     "text": [
      "\b \b-"
     ]
    },
    {
     "name": "stdout",
     "output_type": "stream",
     "text": [
      "\b \b\\"
     ]
    },
    {
     "name": "stdout",
     "output_type": "stream",
     "text": [
      "\b \b|"
     ]
    },
    {
     "name": "stdout",
     "output_type": "stream",
     "text": [
      "\b \bdone\r\n",
      "\u001b[?25h  Created wheel for sklearn: filename=sklearn-0.0-py2.py3-none-any.whl size=1304 sha256=9ac8f32f9e693c3f3c1d3a91a830ee15dde78872920e4dc106c7405fff80da27\r\n",
      "  Stored in directory: /Users/patelchess79/Library/Caches/pip/wheels/22/0b/40/fd3f795caaa1fb4c6cb738bc1f56100be1e57da95849bfc897\r\n",
      "Successfully built sklearn\r\n"
     ]
    },
    {
     "name": "stdout",
     "output_type": "stream",
     "text": [
      "Installing collected packages: sklearn\r\n"
     ]
    },
    {
     "name": "stdout",
     "output_type": "stream",
     "text": [
      "Successfully installed sklearn-0.0\r\n"
     ]
    },
    {
     "name": "stdout",
     "output_type": "stream",
     "text": [
      "Requirement already satisfied: matplotlib in /Users/patelchess79/opt/anaconda3/lib/python3.8/site-packages (3.3.4)\r\n",
      "Requirement already satisfied: cycler>=0.10 in /Users/patelchess79/opt/anaconda3/lib/python3.8/site-packages (from matplotlib) (0.10.0)\r\n",
      "Requirement already satisfied: pillow>=6.2.0 in /Users/patelchess79/opt/anaconda3/lib/python3.8/site-packages (from matplotlib) (8.2.0)\r\n",
      "Requirement already satisfied: pyparsing!=2.0.4,!=2.1.2,!=2.1.6,>=2.0.3 in /Users/patelchess79/opt/anaconda3/lib/python3.8/site-packages (from matplotlib) (2.4.7)\r\n",
      "Requirement already satisfied: python-dateutil>=2.1 in /Users/patelchess79/opt/anaconda3/lib/python3.8/site-packages (from matplotlib) (2.8.1)\r\n"
     ]
    },
    {
     "name": "stdout",
     "output_type": "stream",
     "text": [
      "Requirement already satisfied: numpy>=1.15 in /Users/patelchess79/opt/anaconda3/lib/python3.8/site-packages (from matplotlib) (1.20.1)\r\n",
      "Requirement already satisfied: kiwisolver>=1.0.1 in /Users/patelchess79/opt/anaconda3/lib/python3.8/site-packages (from matplotlib) (1.3.1)\r\n",
      "Requirement already satisfied: six in /Users/patelchess79/opt/anaconda3/lib/python3.8/site-packages (from cycler>=0.10->matplotlib) (1.15.0)\r\n"
     ]
    }
   ],
   "source": [
    "!pip3 install statsmodels\n",
    "!pip3 install sklearn\n",
    "!pip3 install matplotlib"
   ]
  },
  {
   "cell_type": "code",
   "execution_count": 2,
   "id": "8b325f6f",
   "metadata": {
    "execution": {
     "iopub.execute_input": "2022-07-01T15:58:27.332531Z",
     "iopub.status.busy": "2022-07-01T15:58:27.331910Z",
     "iopub.status.idle": "2022-07-01T15:58:29.457339Z",
     "shell.execute_reply": "2022-07-01T15:58:29.457820Z"
    },
    "papermill": {
     "duration": 2.135798,
     "end_time": "2022-07-01T15:58:29.458009",
     "exception": false,
     "start_time": "2022-07-01T15:58:27.322211",
     "status": "completed"
    },
    "tags": []
   },
   "outputs": [],
   "source": [
    "from matplotlib import pyplot as plt\n",
    "import numpy as np\n",
    "import pandas as pd\n",
    "from sklearn.metrics import mean_squared_error\n",
    "from statsmodels.tsa.statespace.sarimax import SARIMAX"
   ]
  },
  {
   "cell_type": "markdown",
   "id": "32b79b61",
   "metadata": {
    "papermill": {
     "duration": 0.005892,
     "end_time": "2022-07-01T15:58:29.469582",
     "exception": false,
     "start_time": "2022-07-01T15:58:29.463690",
     "status": "completed"
    },
    "tags": []
   },
   "source": [
    "<a id=\"cell1\"></a>\n",
    "\n",
    "### 1. Read the Cleaned Data\n",
    "\n",
    "We start by reading the cleaned dataset that was created in notebook `Part 1 - Data Cleaning`. \n",
    "\n",
    "**Note:** if you haven't yet run this notebook, run it first; otherwise the cells below will not work."
   ]
  },
  {
   "cell_type": "code",
   "execution_count": 3,
   "id": "9f2e86b8",
   "metadata": {
    "execution": {
     "iopub.execute_input": "2022-07-01T15:58:29.486158Z",
     "iopub.status.busy": "2022-07-01T15:58:29.485414Z",
     "iopub.status.idle": "2022-07-01T15:58:29.618500Z",
     "shell.execute_reply": "2022-07-01T15:58:29.618934Z"
    },
    "papermill": {
     "duration": 0.143262,
     "end_time": "2022-07-01T15:58:29.619122",
     "exception": false,
     "start_time": "2022-07-01T15:58:29.475860",
     "status": "completed"
    },
    "tags": []
   },
   "outputs": [],
   "source": [
    "data = pd.read_csv('data/noaa-weather-data-jfk-airport/jfk_weather_cleaned.csv', parse_dates=['DATE'])"
   ]
  },
  {
   "cell_type": "code",
   "execution_count": 4,
   "id": "09ac0e24",
   "metadata": {
    "execution": {
     "iopub.execute_input": "2022-07-01T15:58:29.634872Z",
     "iopub.status.busy": "2022-07-01T15:58:29.634271Z",
     "iopub.status.idle": "2022-07-01T15:58:29.662506Z",
     "shell.execute_reply": "2022-07-01T15:58:29.663023Z"
    },
    "papermill": {
     "duration": 0.038003,
     "end_time": "2022-07-01T15:58:29.663242",
     "exception": false,
     "start_time": "2022-07-01T15:58:29.625239",
     "status": "completed"
    },
    "tags": []
   },
   "outputs": [
    {
     "data": {
      "text/html": [
       "<div>\n",
       "<style scoped>\n",
       "    .dataframe tbody tr th:only-of-type {\n",
       "        vertical-align: middle;\n",
       "    }\n",
       "\n",
       "    .dataframe tbody tr th {\n",
       "        vertical-align: top;\n",
       "    }\n",
       "\n",
       "    .dataframe thead th {\n",
       "        text-align: right;\n",
       "    }\n",
       "</style>\n",
       "<table border=\"1\" class=\"dataframe\">\n",
       "  <thead>\n",
       "    <tr style=\"text-align: right;\">\n",
       "      <th></th>\n",
       "      <th>visibility</th>\n",
       "      <th>dry_bulb_temp_f</th>\n",
       "      <th>wet_bulb_temp_f</th>\n",
       "      <th>dew_point_temp_f</th>\n",
       "      <th>relative_humidity</th>\n",
       "      <th>wind_speed</th>\n",
       "      <th>station_pressure</th>\n",
       "      <th>sea_level_pressure</th>\n",
       "      <th>precip</th>\n",
       "      <th>altimeter_setting</th>\n",
       "      <th>wind_direction_sin</th>\n",
       "      <th>wind_direction_cos</th>\n",
       "      <th>pressure_tendency_incr</th>\n",
       "      <th>pressure_tendency_decr</th>\n",
       "      <th>pressure_tendency_const</th>\n",
       "    </tr>\n",
       "    <tr>\n",
       "      <th>DATE</th>\n",
       "      <th></th>\n",
       "      <th></th>\n",
       "      <th></th>\n",
       "      <th></th>\n",
       "      <th></th>\n",
       "      <th></th>\n",
       "      <th></th>\n",
       "      <th></th>\n",
       "      <th></th>\n",
       "      <th></th>\n",
       "      <th></th>\n",
       "      <th></th>\n",
       "      <th></th>\n",
       "      <th></th>\n",
       "      <th></th>\n",
       "    </tr>\n",
       "  </thead>\n",
       "  <tbody>\n",
       "    <tr>\n",
       "      <th>2010-01-01 01:00:00</th>\n",
       "      <td>6.0</td>\n",
       "      <td>33.0</td>\n",
       "      <td>32.0</td>\n",
       "      <td>31.0</td>\n",
       "      <td>92.0</td>\n",
       "      <td>0.0</td>\n",
       "      <td>29.97</td>\n",
       "      <td>29.99</td>\n",
       "      <td>0.01</td>\n",
       "      <td>29.99</td>\n",
       "      <td>0.0</td>\n",
       "      <td>1.0</td>\n",
       "      <td>0</td>\n",
       "      <td>1</td>\n",
       "      <td>0</td>\n",
       "    </tr>\n",
       "    <tr>\n",
       "      <th>2010-01-01 02:00:00</th>\n",
       "      <td>6.0</td>\n",
       "      <td>33.0</td>\n",
       "      <td>33.0</td>\n",
       "      <td>32.0</td>\n",
       "      <td>96.0</td>\n",
       "      <td>0.0</td>\n",
       "      <td>29.97</td>\n",
       "      <td>29.99</td>\n",
       "      <td>0.02</td>\n",
       "      <td>29.99</td>\n",
       "      <td>0.0</td>\n",
       "      <td>1.0</td>\n",
       "      <td>0</td>\n",
       "      <td>1</td>\n",
       "      <td>0</td>\n",
       "    </tr>\n",
       "    <tr>\n",
       "      <th>2010-01-01 03:00:00</th>\n",
       "      <td>5.0</td>\n",
       "      <td>33.0</td>\n",
       "      <td>33.0</td>\n",
       "      <td>32.0</td>\n",
       "      <td>96.0</td>\n",
       "      <td>0.0</td>\n",
       "      <td>29.97</td>\n",
       "      <td>29.99</td>\n",
       "      <td>0.00</td>\n",
       "      <td>29.99</td>\n",
       "      <td>0.0</td>\n",
       "      <td>1.0</td>\n",
       "      <td>0</td>\n",
       "      <td>1</td>\n",
       "      <td>0</td>\n",
       "    </tr>\n",
       "    <tr>\n",
       "      <th>2010-01-01 04:00:00</th>\n",
       "      <td>5.0</td>\n",
       "      <td>33.0</td>\n",
       "      <td>33.0</td>\n",
       "      <td>32.0</td>\n",
       "      <td>96.0</td>\n",
       "      <td>0.0</td>\n",
       "      <td>29.95</td>\n",
       "      <td>29.97</td>\n",
       "      <td>0.00</td>\n",
       "      <td>29.97</td>\n",
       "      <td>0.0</td>\n",
       "      <td>1.0</td>\n",
       "      <td>0</td>\n",
       "      <td>1</td>\n",
       "      <td>0</td>\n",
       "    </tr>\n",
       "    <tr>\n",
       "      <th>2010-01-01 05:00:00</th>\n",
       "      <td>5.0</td>\n",
       "      <td>33.0</td>\n",
       "      <td>32.0</td>\n",
       "      <td>31.0</td>\n",
       "      <td>92.0</td>\n",
       "      <td>0.0</td>\n",
       "      <td>29.93</td>\n",
       "      <td>29.96</td>\n",
       "      <td>0.00</td>\n",
       "      <td>29.95</td>\n",
       "      <td>0.0</td>\n",
       "      <td>1.0</td>\n",
       "      <td>0</td>\n",
       "      <td>1</td>\n",
       "      <td>0</td>\n",
       "    </tr>\n",
       "  </tbody>\n",
       "</table>\n",
       "</div>"
      ],
      "text/plain": [
       "                     visibility  dry_bulb_temp_f  wet_bulb_temp_f  \\\n",
       "DATE                                                                \n",
       "2010-01-01 01:00:00         6.0             33.0             32.0   \n",
       "2010-01-01 02:00:00         6.0             33.0             33.0   \n",
       "2010-01-01 03:00:00         5.0             33.0             33.0   \n",
       "2010-01-01 04:00:00         5.0             33.0             33.0   \n",
       "2010-01-01 05:00:00         5.0             33.0             32.0   \n",
       "\n",
       "                     dew_point_temp_f  relative_humidity  wind_speed  \\\n",
       "DATE                                                                   \n",
       "2010-01-01 01:00:00              31.0               92.0         0.0   \n",
       "2010-01-01 02:00:00              32.0               96.0         0.0   \n",
       "2010-01-01 03:00:00              32.0               96.0         0.0   \n",
       "2010-01-01 04:00:00              32.0               96.0         0.0   \n",
       "2010-01-01 05:00:00              31.0               92.0         0.0   \n",
       "\n",
       "                     station_pressure  sea_level_pressure  precip  \\\n",
       "DATE                                                                \n",
       "2010-01-01 01:00:00             29.97               29.99    0.01   \n",
       "2010-01-01 02:00:00             29.97               29.99    0.02   \n",
       "2010-01-01 03:00:00             29.97               29.99    0.00   \n",
       "2010-01-01 04:00:00             29.95               29.97    0.00   \n",
       "2010-01-01 05:00:00             29.93               29.96    0.00   \n",
       "\n",
       "                     altimeter_setting  wind_direction_sin  \\\n",
       "DATE                                                         \n",
       "2010-01-01 01:00:00              29.99                 0.0   \n",
       "2010-01-01 02:00:00              29.99                 0.0   \n",
       "2010-01-01 03:00:00              29.99                 0.0   \n",
       "2010-01-01 04:00:00              29.97                 0.0   \n",
       "2010-01-01 05:00:00              29.95                 0.0   \n",
       "\n",
       "                     wind_direction_cos  pressure_tendency_incr  \\\n",
       "DATE                                                              \n",
       "2010-01-01 01:00:00                 1.0                       0   \n",
       "2010-01-01 02:00:00                 1.0                       0   \n",
       "2010-01-01 03:00:00                 1.0                       0   \n",
       "2010-01-01 04:00:00                 1.0                       0   \n",
       "2010-01-01 05:00:00                 1.0                       0   \n",
       "\n",
       "                     pressure_tendency_decr  pressure_tendency_const  \n",
       "DATE                                                                  \n",
       "2010-01-01 01:00:00                       1                        0  \n",
       "2010-01-01 02:00:00                       1                        0  \n",
       "2010-01-01 03:00:00                       1                        0  \n",
       "2010-01-01 04:00:00                       1                        0  \n",
       "2010-01-01 05:00:00                       1                        0  "
      ]
     },
     "execution_count": 4,
     "metadata": {},
     "output_type": "execute_result"
    }
   ],
   "source": [
    "# Set date index\n",
    "data = data.set_index(pd.DatetimeIndex(data['DATE']))\n",
    "data.drop(['DATE'], axis=1, inplace=True)\n",
    "data.head()"
   ]
  },
  {
   "cell_type": "markdown",
   "id": "6bbdc3f3",
   "metadata": {
    "papermill": {
     "duration": 0.006696,
     "end_time": "2022-07-01T15:58:29.676437",
     "exception": false,
     "start_time": "2022-07-01T15:58:29.669741",
     "status": "completed"
    },
    "tags": []
   },
   "source": [
    "For purposes of time-series modeling, we will restrict our analysis to a 2-year sample of the dataset to avoid overly long model-training times. "
   ]
  },
  {
   "cell_type": "code",
   "execution_count": 5,
   "id": "b33feb87",
   "metadata": {
    "execution": {
     "iopub.execute_input": "2022-07-01T15:58:29.691728Z",
     "iopub.status.busy": "2022-07-01T15:58:29.691100Z",
     "iopub.status.idle": "2022-07-01T15:58:29.707361Z",
     "shell.execute_reply": "2022-07-01T15:58:29.707795Z"
    },
    "papermill": {
     "duration": 0.025508,
     "end_time": "2022-07-01T15:58:29.707980",
     "exception": false,
     "start_time": "2022-07-01T15:58:29.682472",
     "status": "completed"
    },
    "tags": []
   },
   "outputs": [
    {
     "name": "stdout",
     "output_type": "stream",
     "text": [
      "<class 'pandas.core.frame.DataFrame'>\n",
      "DatetimeIndex: 17568 entries, 2016-01-01 00:00:00 to 2018-01-01 23:00:00\n",
      "Data columns (total 15 columns):\n",
      " #   Column                   Non-Null Count  Dtype  \n",
      "---  ------                   --------------  -----  \n",
      " 0   visibility               17568 non-null  float64\n",
      " 1   dry_bulb_temp_f          17568 non-null  float64\n",
      " 2   wet_bulb_temp_f          17568 non-null  float64\n",
      " 3   dew_point_temp_f         17568 non-null  float64\n",
      " 4   relative_humidity        17568 non-null  float64\n",
      " 5   wind_speed               17568 non-null  float64\n",
      " 6   station_pressure         17568 non-null  float64\n",
      " 7   sea_level_pressure       17568 non-null  float64\n",
      " 8   precip                   17568 non-null  float64\n",
      " 9   altimeter_setting        17568 non-null  float64\n",
      " 10  wind_direction_sin       17568 non-null  float64\n",
      " 11  wind_direction_cos       17568 non-null  float64\n",
      " 12  pressure_tendency_incr   17568 non-null  int64  \n",
      " 13  pressure_tendency_decr   17568 non-null  int64  \n",
      " 14  pressure_tendency_const  17568 non-null  int64  \n",
      "dtypes: float64(12), int64(3)\n",
      "memory usage: 2.1 MB\n"
     ]
    }
   ],
   "source": [
    "sample = data['2016-01-01':'2018-01-01']\n",
    "sample.info()"
   ]
  },
  {
   "cell_type": "markdown",
   "id": "a6b48c95",
   "metadata": {
    "papermill": {
     "duration": 0.005403,
     "end_time": "2022-07-01T15:58:29.719215",
     "exception": false,
     "start_time": "2022-07-01T15:58:29.713812",
     "status": "completed"
    },
    "tags": []
   },
   "source": [
    "#### Create Training/Validation/Test Splits\n",
    "\n",
    "Before we attempt any time-series analysis and prediction, we should split the dataset into training, validation and test sets. We use a portion of the data for training, and a portion of _future_ data for our validation and test sets.\n",
    "\n",
    "If we instead trained a model on the full dataset, the model would learn to be very good at making predictions on that particular dataset, essentially just copying the answers it knows. However, when presented with data the model _has not seen_ , it would perform poorly since it has not learned how to generalize its answers.\n",
    "\n",
    "By training on a portion of the dataset and testing the model's performance on another portion of the dataset (which data the model has not seen in training), we try to avoid our models \"over-fitting\" the dataset and make them better at predicting temperatures given unseen, future data. This process of splitting the dataset and evaluating a model's performance on the validation and test sets is commonly known as [cross-validation](https://en.wikipedia.org/wiki/Cross-validation_(statistics)).\n",
    "\n",
    "By default here we use 80% of the data for the training set and 10% each for validation and test sets."
   ]
  },
  {
   "cell_type": "code",
   "execution_count": 6,
   "id": "84f174ae",
   "metadata": {
    "execution": {
     "iopub.execute_input": "2022-07-01T15:58:29.734947Z",
     "iopub.status.busy": "2022-07-01T15:58:29.734424Z",
     "iopub.status.idle": "2022-07-01T15:58:29.736275Z",
     "shell.execute_reply": "2022-07-01T15:58:29.736770Z"
    },
    "papermill": {
     "duration": 0.012468,
     "end_time": "2022-07-01T15:58:29.736974",
     "exception": false,
     "start_time": "2022-07-01T15:58:29.724506",
     "status": "completed"
    },
    "tags": []
   },
   "outputs": [
    {
     "name": "stdout",
     "output_type": "stream",
     "text": [
      "Total data size:      17568 rows\n",
      "Training set size:    14054 rows\n",
      "Validation set size:  1757 rows\n",
      "Test set size:        1757 rows\n"
     ]
    }
   ],
   "source": [
    "def split_data(data, val_size=0.1, test_size=0.1):\n",
    "    \"\"\"Splits data to training, validation and testing parts\n",
    "\n",
    "    \"\"\"\n",
    "    ntest = int(round(len(data) * (1 - test_size)))\n",
    "    nval = int(round(len(data) * (1 - test_size - val_size)))\n",
    "\n",
    "    df_train, df_val, df_test = data.iloc[:nval], data.iloc[nval:ntest], data.iloc[ntest:]\n",
    "\n",
    "    return df_train, df_val, df_test\n",
    "\n",
    "\n",
    "# Create data split\n",
    "df_train, df_val, df_test = split_data(sample)\n",
    "\n",
    "print('Total data size:      {} rows'.format(len(sample)))\n",
    "print('Training set size:    {} rows'.format(len(df_train)))\n",
    "print('Validation set size:  {} rows'.format(len(df_val)))\n",
    "print('Test set size:        {} rows'.format(len(df_test)))"
   ]
  },
  {
   "cell_type": "markdown",
   "id": "3a8aed89",
   "metadata": {
    "papermill": {
     "duration": 0.004484,
     "end_time": "2022-07-01T15:58:29.746268",
     "exception": false,
     "start_time": "2022-07-01T15:58:29.741784",
     "status": "completed"
    },
    "tags": []
   },
   "source": [
    "<a id=\"cell2\"></a>\n",
    "\n",
    "### 2. Explore Baseline Models\n",
    "\n",
    "In this section, we'll create a few simple predictive models of temperature, using shifting and rolling averages. These will serve as a baseline against which we can compare more sophisticated models.\n",
    "\n",
    "Using values at recent timesteps (such as the most recent timestep `t-1` and second-most recent timestep `t-2`) to predict the current value at time `t` is what's known as persistence modeling, or using the last observed value to predict the next following value. These preceding timesteps are often referred to in time-series analysis as `lags`. So, the value at time `t-1` is known as the `1st lag` and the value at time `t-2` is the `2nd lag`.\n",
    "\n",
    "We can also create baselines based on rolling (or moving) averages. This is a time-series constructed by averaging each lagged value up to the selected lag. For example, a 6-period (or 6-lag) rolling avearge is the average of the previous 6 hourly lags `t-6` to `t-1`.\n",
    "\n",
    "Our baseline models will be:\n",
    "1. `1st lag` - i.e. values at `t-1`\n",
    "2. `2nd lag` - i.e. values at `t-2`\n",
    "3. `6-lag` rolling average\n",
    "4. `12-lag` rolling average"
   ]
  },
  {
   "cell_type": "code",
   "execution_count": 7,
   "id": "1372913e",
   "metadata": {
    "execution": {
     "iopub.execute_input": "2022-07-01T15:58:29.761492Z",
     "iopub.status.busy": "2022-07-01T15:58:29.760799Z",
     "iopub.status.idle": "2022-07-01T15:58:29.779035Z",
     "shell.execute_reply": "2022-07-01T15:58:29.779437Z"
    },
    "papermill": {
     "duration": 0.028799,
     "end_time": "2022-07-01T15:58:29.779594",
     "exception": false,
     "start_time": "2022-07-01T15:58:29.750795",
     "status": "completed"
    },
    "tags": []
   },
   "outputs": [
    {
     "data": {
      "text/html": [
       "<div>\n",
       "<style scoped>\n",
       "    .dataframe tbody tr th:only-of-type {\n",
       "        vertical-align: middle;\n",
       "    }\n",
       "\n",
       "    .dataframe tbody tr th {\n",
       "        vertical-align: top;\n",
       "    }\n",
       "\n",
       "    .dataframe thead th {\n",
       "        text-align: right;\n",
       "    }\n",
       "</style>\n",
       "<table border=\"1\" class=\"dataframe\">\n",
       "  <thead>\n",
       "    <tr style=\"text-align: right;\">\n",
       "      <th></th>\n",
       "      <th>dry_bulb_temp_f</th>\n",
       "      <th>dry_bulb_temp_f (t-1)</th>\n",
       "      <th>dry_bulb_temp_f (t-2)</th>\n",
       "      <th>dry_bulb_temp_f (6hr rollavg)</th>\n",
       "      <th>dry_bulb_temp_f (12hr rollavg)</th>\n",
       "    </tr>\n",
       "    <tr>\n",
       "      <th>DATE</th>\n",
       "      <th></th>\n",
       "      <th></th>\n",
       "      <th></th>\n",
       "      <th></th>\n",
       "      <th></th>\n",
       "    </tr>\n",
       "  </thead>\n",
       "  <tbody>\n",
       "    <tr>\n",
       "      <th>2016-01-01 02:00:00</th>\n",
       "      <td>43.0</td>\n",
       "      <td>43.0</td>\n",
       "      <td>44.0</td>\n",
       "      <td>43.333333</td>\n",
       "      <td>43.333333</td>\n",
       "    </tr>\n",
       "    <tr>\n",
       "      <th>2016-01-01 03:00:00</th>\n",
       "      <td>42.0</td>\n",
       "      <td>43.0</td>\n",
       "      <td>43.0</td>\n",
       "      <td>43.000000</td>\n",
       "      <td>43.000000</td>\n",
       "    </tr>\n",
       "    <tr>\n",
       "      <th>2016-01-01 04:00:00</th>\n",
       "      <td>43.0</td>\n",
       "      <td>42.0</td>\n",
       "      <td>43.0</td>\n",
       "      <td>43.000000</td>\n",
       "      <td>43.000000</td>\n",
       "    </tr>\n",
       "    <tr>\n",
       "      <th>2016-01-01 05:00:00</th>\n",
       "      <td>42.0</td>\n",
       "      <td>43.0</td>\n",
       "      <td>42.0</td>\n",
       "      <td>42.833333</td>\n",
       "      <td>42.833333</td>\n",
       "    </tr>\n",
       "    <tr>\n",
       "      <th>2016-01-01 06:00:00</th>\n",
       "      <td>41.0</td>\n",
       "      <td>42.0</td>\n",
       "      <td>43.0</td>\n",
       "      <td>42.333333</td>\n",
       "      <td>42.571429</td>\n",
       "    </tr>\n",
       "    <tr>\n",
       "      <th>2016-01-01 07:00:00</th>\n",
       "      <td>41.0</td>\n",
       "      <td>41.0</td>\n",
       "      <td>42.0</td>\n",
       "      <td>42.000000</td>\n",
       "      <td>42.375000</td>\n",
       "    </tr>\n",
       "    <tr>\n",
       "      <th>2016-01-01 08:00:00</th>\n",
       "      <td>41.0</td>\n",
       "      <td>41.0</td>\n",
       "      <td>41.0</td>\n",
       "      <td>41.666667</td>\n",
       "      <td>42.222222</td>\n",
       "    </tr>\n",
       "    <tr>\n",
       "      <th>2016-01-01 09:00:00</th>\n",
       "      <td>40.0</td>\n",
       "      <td>41.0</td>\n",
       "      <td>41.0</td>\n",
       "      <td>41.333333</td>\n",
       "      <td>42.000000</td>\n",
       "    </tr>\n",
       "    <tr>\n",
       "      <th>2016-01-01 10:00:00</th>\n",
       "      <td>41.0</td>\n",
       "      <td>40.0</td>\n",
       "      <td>41.0</td>\n",
       "      <td>41.000000</td>\n",
       "      <td>41.909091</td>\n",
       "    </tr>\n",
       "    <tr>\n",
       "      <th>2016-01-01 11:00:00</th>\n",
       "      <td>41.0</td>\n",
       "      <td>41.0</td>\n",
       "      <td>40.0</td>\n",
       "      <td>40.833333</td>\n",
       "      <td>41.833333</td>\n",
       "    </tr>\n",
       "  </tbody>\n",
       "</table>\n",
       "</div>"
      ],
      "text/plain": [
       "                     dry_bulb_temp_f  dry_bulb_temp_f (t-1)  \\\n",
       "DATE                                                          \n",
       "2016-01-01 02:00:00             43.0                   43.0   \n",
       "2016-01-01 03:00:00             42.0                   43.0   \n",
       "2016-01-01 04:00:00             43.0                   42.0   \n",
       "2016-01-01 05:00:00             42.0                   43.0   \n",
       "2016-01-01 06:00:00             41.0                   42.0   \n",
       "2016-01-01 07:00:00             41.0                   41.0   \n",
       "2016-01-01 08:00:00             41.0                   41.0   \n",
       "2016-01-01 09:00:00             40.0                   41.0   \n",
       "2016-01-01 10:00:00             41.0                   40.0   \n",
       "2016-01-01 11:00:00             41.0                   41.0   \n",
       "\n",
       "                     dry_bulb_temp_f (t-2)  dry_bulb_temp_f (6hr rollavg)  \\\n",
       "DATE                                                                        \n",
       "2016-01-01 02:00:00                   44.0                      43.333333   \n",
       "2016-01-01 03:00:00                   43.0                      43.000000   \n",
       "2016-01-01 04:00:00                   43.0                      43.000000   \n",
       "2016-01-01 05:00:00                   42.0                      42.833333   \n",
       "2016-01-01 06:00:00                   43.0                      42.333333   \n",
       "2016-01-01 07:00:00                   42.0                      42.000000   \n",
       "2016-01-01 08:00:00                   41.0                      41.666667   \n",
       "2016-01-01 09:00:00                   41.0                      41.333333   \n",
       "2016-01-01 10:00:00                   41.0                      41.000000   \n",
       "2016-01-01 11:00:00                   40.0                      40.833333   \n",
       "\n",
       "                     dry_bulb_temp_f (12hr rollavg)  \n",
       "DATE                                                 \n",
       "2016-01-01 02:00:00                       43.333333  \n",
       "2016-01-01 03:00:00                       43.000000  \n",
       "2016-01-01 04:00:00                       43.000000  \n",
       "2016-01-01 05:00:00                       42.833333  \n",
       "2016-01-01 06:00:00                       42.571429  \n",
       "2016-01-01 07:00:00                       42.375000  \n",
       "2016-01-01 08:00:00                       42.222222  \n",
       "2016-01-01 09:00:00                       42.000000  \n",
       "2016-01-01 10:00:00                       41.909091  \n",
       "2016-01-01 11:00:00                       41.833333  "
      ]
     },
     "execution_count": 7,
     "metadata": {},
     "output_type": "execute_result"
    }
   ],
   "source": [
    "# define the column containing the data we wish to model - in this case Dry Bulb Temperature (F)\n",
    "Y_COL = 'dry_bulb_temp_f'\n",
    "\n",
    "# Use shifting and rolling averages to predict Y_COL (t)\n",
    "n_in = 2\n",
    "n_out = 1\n",
    "features = [Y_COL]\n",
    "n_features = len(features)\n",
    "\n",
    "# create the baseline on the entire sample dataset.\n",
    "# we will evaluate the prediction error on the validation set\n",
    "baseline = sample[[Y_COL]].loc[:]\n",
    "baseline['{} (t-1)'.format(Y_COL)] = baseline[Y_COL].shift(1)\n",
    "baseline['{} (t-2)'.format(Y_COL)] = baseline[Y_COL].shift(2)\n",
    "baseline['{} (6hr rollavg)'.format(Y_COL)] = baseline[Y_COL].rolling('6H').mean()\n",
    "baseline['{} (12hr rollavg)'.format(Y_COL)] = baseline[Y_COL].rolling('12H').mean()\n",
    "baseline.dropna(inplace=True)\n",
    "baseline.head(10)"
   ]
  },
  {
   "cell_type": "markdown",
   "id": "bec45c49",
   "metadata": {
    "papermill": {
     "duration": 0.004787,
     "end_time": "2022-07-01T15:58:29.789343",
     "exception": false,
     "start_time": "2022-07-01T15:58:29.784556",
     "status": "completed"
    },
    "tags": []
   },
   "source": [
    "Next, we will plot data from our validation dataset to get a sense for how well these baseline models predict the next hourly temperature. Note thatd we only use a few days of data in order to make the plot easier to view."
   ]
  },
  {
   "cell_type": "code",
   "execution_count": 8,
   "id": "767cd76f",
   "metadata": {
    "execution": {
     "iopub.execute_input": "2022-07-01T15:58:29.801753Z",
     "iopub.status.busy": "2022-07-01T15:58:29.801169Z",
     "iopub.status.idle": "2022-07-01T15:58:29.803902Z",
     "shell.execute_reply": "2022-07-01T15:58:29.804280Z"
    },
    "papermill": {
     "duration": 0.010479,
     "end_time": "2022-07-01T15:58:29.804455",
     "exception": false,
     "start_time": "2022-07-01T15:58:29.793976",
     "status": "completed"
    },
    "tags": []
   },
   "outputs": [],
   "source": [
    "# plot first 7 days of the validation set, 168 hours\n",
    "start = df_val.index[0]\n",
    "end = df_val.index[167]\n",
    "sliced = baseline[start:end]"
   ]
  },
  {
   "cell_type": "code",
   "execution_count": 9,
   "id": "71d13d9f",
   "metadata": {
    "execution": {
     "iopub.execute_input": "2022-07-01T15:58:29.818593Z",
     "iopub.status.busy": "2022-07-01T15:58:29.818087Z",
     "iopub.status.idle": "2022-07-01T15:58:30.010625Z",
     "shell.execute_reply": "2022-07-01T15:58:30.010970Z"
    },
    "papermill": {
     "duration": 0.201574,
     "end_time": "2022-07-01T15:58:30.011172",
     "exception": false,
     "start_time": "2022-07-01T15:58:29.809598",
     "status": "completed"
    },
    "tags": []
   },
   "outputs": [
    {
     "data": {
      "image/png": "[encoded data removed]",
      "text/plain": [
       "<Figure size 432x288 with 1 Axes>"
      ]
     },
     "metadata": {
      "needs_background": "light"
     },
     "output_type": "display_data"
    }
   ],
   "source": [
    "# Plot baseline predictions sample\n",
    "cols = ['dry_bulb_temp_f', 'dry_bulb_temp_f (t-1)', 'dry_bulb_temp_f (t-2)',\n",
    "        'dry_bulb_temp_f (6hr rollavg)', 'dry_bulb_temp_f (12hr rollavg)']\n",
    "sliced[cols].plot()\n",
    "\n",
    "plt.legend(['t', 't-1', 't-2', '6hr', '12hr'], loc=2, ncol=3)\n",
    "plt.title('Baselines for First 7 Days of Validation Set')\n",
    "plt.ylabel('Temperature (F)')\n",
    "plt.tight_layout()\n",
    "plt.rcParams['figure.dpi'] = 100\n",
    "plt.show()"
   ]
  },
  {
   "cell_type": "markdown",
   "id": "2ed4f374",
   "metadata": {
    "papermill": {
     "duration": 0.005483,
     "end_time": "2022-07-01T15:58:30.022347",
     "exception": false,
     "start_time": "2022-07-01T15:58:30.016864",
     "status": "completed"
    },
    "tags": []
   },
   "source": [
    "#### Evaluate baseline models\n",
    "\n",
    "As you can perhaps see from the graph above, the _lagged_ baselines appear to do a better job of forecasting temperatures than the _rolling average_ baselines.\n",
    "\n",
    "In order to evaluate our baseline models more precisely, we need to answer the question _\"how well do our models predict future temperature?\"_. In regression problems involving prediction of a numerical value, we often use a measure of the difference between our predicted value and the actual value. This is referred to as an error measure or error metric. A common measure is the Mean Squared Error (MSE):\n",
    "\n",
    "\\begin{equation}\n",
    "MSE = \\frac{1}{n} \\sum_{i=1}^{n}{(y_i - \\hat y_i)^{2}}\n",
    "\\end{equation}\n",
    "\n",
    "This is the average of the squared differences between predicted values $ \\hat y $ and actual values $ y $.\n",
    "\n",
    "Because the MSE is in \"units squared\" it can be difficult to interpet, hence the Root Mean Squared Error (RMSE) is often used:\n",
    "\n",
    "\\begin{equation}\n",
    "RMSE = \\sqrt {MSE} \n",
    "\\end{equation}\n",
    "\n",
    "This is the square root of the MSE, and is in the same units as the values $ y $. We can compare the RMSE (and MSE) values for different models and say that the model that has the lower MSE is better at predicting temperatures, all things equal. Note that MSE and RMSE will grow large quickly if the differences between predicted and actual values are large. This may or may not be a desired quality of your error measure. In this case, it is probably a good thing, since a model that makes large mistakes in temperature prediction will be much less useful than one which makes small mistakes.\n",
    "\n",
    "Next, we calculate the RMSE measure for each of our baseline models, on the full validation set."
   ]
  },
  {
   "cell_type": "code",
   "execution_count": 10,
   "id": "14ecb267",
   "metadata": {
    "execution": {
     "iopub.execute_input": "2022-07-01T15:58:30.089797Z",
     "iopub.status.busy": "2022-07-01T15:58:30.089021Z",
     "iopub.status.idle": "2022-07-01T15:58:30.091531Z",
     "shell.execute_reply": "2022-07-01T15:58:30.091979Z"
    },
    "papermill": {
     "duration": 0.060317,
     "end_time": "2022-07-01T15:58:30.092169",
     "exception": false,
     "start_time": "2022-07-01T15:58:30.031852",
     "status": "completed"
    },
    "tags": []
   },
   "outputs": [
    {
     "name": "stdout",
     "output_type": "stream",
     "text": [
      "Baseline t-1 RMSE:            1.690\n",
      "Baseline t-2 RMSE:            2.880\n",
      "Baseline 6hr rollavg RMSE:    3.080\n",
      "Baseline 12hr rollavg RMSE:   5.010\n"
     ]
    }
   ],
   "source": [
    "# Calculating baseline RMSE\n",
    "start_val = df_val.index[0]\n",
    "end_val = df_val.index[-1]\n",
    "baseline_val = baseline[start_val:end_val]\n",
    "\n",
    "baseline_y = baseline_val[Y_COL]\n",
    "baseline_t1 = baseline_val['dry_bulb_temp_f (t-1)']\n",
    "baseline_t2 = baseline_val['dry_bulb_temp_f (t-2)']\n",
    "baseline_avg6 = baseline_val['dry_bulb_temp_f (6hr rollavg)']\n",
    "baseline_avg12 = baseline_val['dry_bulb_temp_f (12hr rollavg)']\n",
    "\n",
    "rmse_t1 = round(np.sqrt(mean_squared_error(baseline_y, baseline_t1)), 2)\n",
    "rmse_t2 = round(np.sqrt(mean_squared_error(baseline_y, baseline_t2)), 2)\n",
    "rmse_avg6 = round(np.sqrt(mean_squared_error(baseline_y, baseline_avg6)), 2)\n",
    "rmse_avg12 = round(np.sqrt(mean_squared_error(baseline_y, baseline_avg12)), 2)\n",
    "\n",
    "print('Baseline t-1 RMSE:            {0:.3f}'.format(rmse_t1))\n",
    "print('Baseline t-2 RMSE:            {0:.3f}'.format(rmse_t2))\n",
    "print('Baseline 6hr rollavg RMSE:    {0:.3f}'.format(rmse_avg6))\n",
    "print('Baseline 12hr rollavg RMSE:   {0:.3f}'.format(rmse_avg12))"
   ]
  },
  {
   "cell_type": "markdown",
   "id": "e1144b6f",
   "metadata": {
    "papermill": {
     "duration": 0.007194,
     "end_time": "2022-07-01T15:58:30.107200",
     "exception": false,
     "start_time": "2022-07-01T15:58:30.100006",
     "status": "completed"
    },
    "tags": []
   },
   "source": [
    "The RMSE results confirm what we saw in the graph above. It is clear that the _rolling average_ baselines perform poorly. In fact, the `t-2` lagged baseline is also not very good. It appears that the best baseline model is to simply use the current hour's temperature to predict the next hour's temperature!\n",
    "\n",
    "Can we do better than this simple baseline using more sophisticated models?\n",
    "\n",
    "<a id=\"cell3\"></a>\n",
    "\n",
    "### 2. Train Statistical Time-series Analysis Models\n",
    "\n",
    "\n",
    "In the previous section, we saw that a simple `lag-1` baseline model performed reasonably well at forecasting temperature for the next hourly time step. This is perhaps not too surprising, given what we know about hourly temperatures. Generally, the temperature in a given hour will be quite closely related to the temperature in the previous hour. This phenomenon is very common in time-series analysis and is known as [autocorrelation](https://en.wikipedia.org/wiki/Autocorrelation) - that is, the time series is `correlated` with previous values of itself. More precisely, the values at time `t` are correlated with lagged values (which could be `t-1`, `t-2` and so on).\n",
    "\n",
    "Another thing we saw previously is the concept of _moving averages_. In this case the moving-average baseline was not that good at prediction. However it is common in many time-series for a moving average to capture some of the underlying structure and be useful for prediction.\n",
    "\n",
    "In order to make our model better at predicting temperature, ideally we would want to take these aspects into account. Fortunately, the statistical community has a long history of analyzing time series and has created many different forecasting models.\n",
    "\n",
    "Here, we will explore one called SARIMAX - the **S**easonal **A**uto**R**egressive **I**ntegrated **M**oving **A**verage with e**X**ogenous regressors model. \n",
    "\n",
    "This sounds like a very complex name, but if we look at the components of the name, we see that it includes `autocorrelation` (this is what auto regressive means) and `moving averages`, which are the components mentioned above. \n",
    "\n",
    "The SARIMAX model also allows including a _seasonal_ model component as well as handling *exogenous* variables, which are external to the time-series value itself. For example, for temperature prediction we may wish to take into account not just previous temperature values, but perhaps other weather features which may have an effect on temperature (such as humidity, rainfall, wind, and so on).\n",
    "\n",
    "For the purposes of this notebook, we will not explore modeling of seasonal components or exogenous variables.\n",
    "\n",
    "If we drop the \"S\" and \"X\" from the model, we are left with an [ARIMA model](https://en.wikipedia.org/wiki/Autoregressive_integrated_moving_average) (Auto-regressive Integrated Moving Average). This is a very commonly used model for time-series analysis and we will use it in this notebook by only specifying the relevant model components of the full SARIMAX model.\n",
    "\n",
    "#### 2.1 Replicating a baseline model\n",
    "\n",
    "As a starting point, we will see how we can use SARIMAX to create a simple model that in fact replicates one of the baselines we created previously. Auto-regression, as we have seen, means using values from preceding time periods to predict the current value. Recall that one of our baseline models was the `1st lag` or `t-1` model. In time-series analysis this is referred to as an **AR(1)** model, meaning an **A**uto-**R**egressive model for `lag 1`.\n",
    "\n",
    "Technically, the AR(1) model is not exactly the same as our baseline model. A statistical time series model like SARIMAX learns a set of `weights` to apply to each component of the model. These weights are set so as to best fit the dataset. We can think of our baseline as setting the `weight` for the `t-1` lag to be exactly `1`. In practice, our time-series model will not have a weight of exactly `1` (though it will likely be very close to that), hence the predictions will be slightly different.\n",
    "\n",
    "Now, lets fit our model to the dataset. First, we will set up the model inputs by taking the temperature column of our dataframe. We do this for training and validation sets."
   ]
  },
  {
   "cell_type": "code",
   "execution_count": 11,
   "id": "07c1afc3",
   "metadata": {
    "execution": {
     "iopub.execute_input": "2022-07-01T15:58:30.127097Z",
     "iopub.status.busy": "2022-07-01T15:58:30.126347Z",
     "iopub.status.idle": "2022-07-01T15:58:30.128488Z",
     "shell.execute_reply": "2022-07-01T15:58:30.128944Z"
    },
    "papermill": {
     "duration": 0.013949,
     "end_time": "2022-07-01T15:58:30.129134",
     "exception": false,
     "start_time": "2022-07-01T15:58:30.115185",
     "status": "completed"
    },
    "tags": []
   },
   "outputs": [],
   "source": [
    "X_train = df_train[Y_COL]\n",
    "X_val = df_val[Y_COL]\n",
    "X_both = np.hstack((X_train, X_val))"
   ]
  },
  {
   "cell_type": "markdown",
   "id": "1038758a",
   "metadata": {
    "papermill": {
     "duration": 0.038257,
     "end_time": "2022-07-01T15:58:30.175080",
     "exception": false,
     "start_time": "2022-07-01T15:58:30.136823",
     "status": "completed"
    },
    "tags": []
   },
   "source": [
    "Here we created a variable called `X_both` to cover both the training and validation data. This is required later when we forecast values for our SARIMAX model, in order to give the model access to all the datapoints for which it must create forecasts. Note that the forecasts themselves will only be based on the _model weights_ learned from the training data (this is important for over-fitting as we have seen above)!\n",
    "\n",
    "The SARIMAX model takes an argument called `order`: this specifies the components of the model and itself has 3 parts: `(p, d, q)`. `p` denotes the lags for the AR model and `q` denotes the lags for the MA model. We will not cover the `d` parameter here. Taken together this specifies the parameters of the [ARIMA](https://en.wikipedia.org/wiki/Autoregressive_integrated_moving_average) model portion of SARIMAX.\n",
    "\n",
    "To create an AR(1) model, we set the `order` to be `(1, 0, 0)`. This sets up the AR model to be a `lag 1` model. Then, we fit our model on the training data and inspect a summary of the trained model. "
   ]
  },
  {
   "cell_type": "code",
   "execution_count": 12,
   "id": "88ea8b2a",
   "metadata": {
    "execution": {
     "iopub.execute_input": "2022-07-01T15:58:30.195561Z",
     "iopub.status.busy": "2022-07-01T15:58:30.194845Z",
     "iopub.status.idle": "2022-07-01T15:58:30.879399Z",
     "shell.execute_reply": "2022-07-01T15:58:30.879817Z"
    },
    "papermill": {
     "duration": 0.696675,
     "end_time": "2022-07-01T15:58:30.879981",
     "exception": false,
     "start_time": "2022-07-01T15:58:30.183306",
     "status": "completed"
    },
    "tags": []
   },
   "outputs": [
    {
     "name": "stderr",
     "output_type": "stream",
     "text": [
      "/Users/patelchess79/opt/anaconda3/lib/python3.8/site-packages/statsmodels/tsa/base/tsa_model.py:524: ValueWarning: No frequency information was provided, so inferred frequency H will be used.\n",
      "  warnings.warn('No frequency information was'\n",
      "/Users/patelchess79/opt/anaconda3/lib/python3.8/site-packages/statsmodels/tsa/base/tsa_model.py:524: ValueWarning: No frequency information was provided, so inferred frequency H will be used.\n",
      "  warnings.warn('No frequency information was'\n"
     ]
    },
    {
     "data": {
      "text/html": [
       "<table class=\"simpletable\">\n",
       "<caption>SARIMAX Results</caption>\n",
       "<tr>\n",
       "  <th>Dep. Variable:</th>    <td>dry_bulb_temp_f</td> <th>  No. Observations:  </th>    <td>14054</td>  \n",
       "</tr>\n",
       "<tr>\n",
       "  <th>Model:</th>           <td>SARIMAX(1, 0, 0)</td> <th>  Log Likelihood     </th> <td>-27650.431</td>\n",
       "</tr>\n",
       "<tr>\n",
       "  <th>Date:</th>            <td>Fri, 01 Jul 2022</td> <th>  AIC                </th>  <td>55304.863</td>\n",
       "</tr>\n",
       "<tr>\n",
       "  <th>Time:</th>                <td>21:28:30</td>     <th>  BIC                </th>  <td>55319.964</td>\n",
       "</tr>\n",
       "<tr>\n",
       "  <th>Sample:</th>             <td>01-01-2016</td>    <th>  HQIC               </th>  <td>55309.889</td>\n",
       "</tr>\n",
       "<tr>\n",
       "  <th></th>                   <td>- 08-08-2017</td>   <th>                     </th>      <td> </td>    \n",
       "</tr>\n",
       "<tr>\n",
       "  <th>Covariance Type:</th>        <td>opg</td>       <th>                     </th>      <td> </td>    \n",
       "</tr>\n",
       "</table>\n",
       "<table class=\"simpletable\">\n",
       "<tr>\n",
       "     <td></td>       <th>coef</th>     <th>std err</th>      <th>z</th>      <th>P>|z|</th>  <th>[0.025</th>    <th>0.975]</th>  \n",
       "</tr>\n",
       "<tr>\n",
       "  <th>ar.L1</th>  <td>    0.9996</td> <td>    0.000</td> <td> 4277.653</td> <td> 0.000</td> <td>    0.999</td> <td>    1.000</td>\n",
       "</tr>\n",
       "<tr>\n",
       "  <th>sigma2</th> <td>    2.9937</td> <td>    0.024</td> <td>  125.518</td> <td> 0.000</td> <td>    2.947</td> <td>    3.040</td>\n",
       "</tr>\n",
       "</table>\n",
       "<table class=\"simpletable\">\n",
       "<tr>\n",
       "  <th>Ljung-Box (L1) (Q):</th>     <td>1479.79</td> <th>  Jarque-Bera (JB):  </th> <td>3656.68</td>\n",
       "</tr>\n",
       "<tr>\n",
       "  <th>Prob(Q):</th>                 <td>0.00</td>   <th>  Prob(JB):          </th>  <td>0.00</td>  \n",
       "</tr>\n",
       "<tr>\n",
       "  <th>Heteroskedasticity (H):</th>  <td>0.97</td>   <th>  Skew:              </th>  <td>0.15</td>  \n",
       "</tr>\n",
       "<tr>\n",
       "  <th>Prob(H) (two-sided):</th>     <td>0.26</td>   <th>  Kurtosis:          </th>  <td>5.48</td>  \n",
       "</tr>\n",
       "</table><br/><br/>Warnings:<br/>[1] Covariance matrix calculated using the outer product of gradients (complex-step)."
      ],
      "text/plain": [
       "<class 'statsmodels.iolib.summary.Summary'>\n",
       "\"\"\"\n",
       "                               SARIMAX Results                                \n",
       "==============================================================================\n",
       "Dep. Variable:        dry_bulb_temp_f   No. Observations:                14054\n",
       "Model:               SARIMAX(1, 0, 0)   Log Likelihood              -27650.431\n",
       "Date:                Fri, 01 Jul 2022   AIC                          55304.863\n",
       "Time:                        21:28:30   BIC                          55319.964\n",
       "Sample:                    01-01-2016   HQIC                         55309.889\n",
       "                         - 08-08-2017                                         \n",
       "Covariance Type:                  opg                                         \n",
       "==============================================================================\n",
       "                 coef    std err          z      P>|z|      [0.025      0.975]\n",
       "------------------------------------------------------------------------------\n",
       "ar.L1          0.9996      0.000   4277.653      0.000       0.999       1.000\n",
       "sigma2         2.9937      0.024    125.518      0.000       2.947       3.040\n",
       "===================================================================================\n",
       "Ljung-Box (L1) (Q):                1479.79   Jarque-Bera (JB):              3656.68\n",
       "Prob(Q):                              0.00   Prob(JB):                         0.00\n",
       "Heteroskedasticity (H):               0.97   Skew:                             0.15\n",
       "Prob(H) (two-sided):                  0.26   Kurtosis:                         5.48\n",
       "===================================================================================\n",
       "\n",
       "Warnings:\n",
       "[1] Covariance matrix calculated using the outer product of gradients (complex-step).\n",
       "\"\"\""
      ]
     },
     "execution_count": 12,
     "metadata": {},
     "output_type": "execute_result"
    }
   ],
   "source": [
    "order = (1, 0, 0)\n",
    "model_ar1 = SARIMAX(X_train, order=order)\n",
    "results_ar1 = model_ar1.fit()\n",
    "results_ar1.summary()"
   ]
  },
  {
   "cell_type": "markdown",
   "id": "76fe538e",
   "metadata": {
    "papermill": {
     "duration": 0.00592,
     "end_time": "2022-07-01T15:58:30.892025",
     "exception": false,
     "start_time": "2022-07-01T15:58:30.886105",
     "status": "completed"
    },
    "tags": []
   },
   "source": [
    "There's quite a lot of information printed out in the model summary above. Much of it is related to the statistical properties of our model.\n",
    "\n",
    "The most important thing for now is to look at the second table, where we can see a `coef` value of `0.9996` for the weight `ar.L1`. This tells us the model has set a weight for the `1st lag` component of the AR model to be `0.9996`. This is almost `1` and hence we should expect the prediction results to indeed be close to our `t-1` baseline.\n",
    "\n",
    "Let's create our model forecast on the validation dataset. We will then plot a few data points like we did with our baseline models (using 7 days of validation data) and compute the RMSE value based on the full validation set."
   ]
  },
  {
   "cell_type": "code",
   "execution_count": 13,
   "id": "946351a0",
   "metadata": {
    "execution": {
     "iopub.execute_input": "2022-07-01T15:58:30.909333Z",
     "iopub.status.busy": "2022-07-01T15:58:30.908591Z",
     "iopub.status.idle": "2022-07-01T15:58:30.981980Z",
     "shell.execute_reply": "2022-07-01T15:58:30.982464Z"
    },
    "papermill": {
     "duration": 0.084679,
     "end_time": "2022-07-01T15:58:30.982648",
     "exception": false,
     "start_time": "2022-07-01T15:58:30.897969",
     "status": "completed"
    },
    "tags": []
   },
   "outputs": [],
   "source": [
    "full_data_ar1 = SARIMAX(X_both, order=order)\n",
    "model_forecast_ar1 = full_data_ar1.filter(results_ar1.params)"
   ]
  },
  {
   "cell_type": "code",
   "execution_count": 14,
   "id": "e6ea600c",
   "metadata": {
    "execution": {
     "iopub.execute_input": "2022-07-01T15:58:31.001262Z",
     "iopub.status.busy": "2022-07-01T15:58:31.000641Z",
     "iopub.status.idle": "2022-07-01T15:58:31.130709Z",
     "shell.execute_reply": "2022-07-01T15:58:31.131052Z"
    },
    "papermill": {
     "duration": 0.141488,
     "end_time": "2022-07-01T15:58:31.131229",
     "exception": false,
     "start_time": "2022-07-01T15:58:30.989741",
     "status": "completed"
    },
    "tags": []
   },
   "outputs": [
    {
     "data": {
      "image/png": "[encoded data removed]",
      "text/plain": [
       "<Figure size 600x400 with 1 Axes>"
      ]
     },
     "metadata": {
      "needs_background": "light"
     },
     "output_type": "display_data"
    }
   ],
   "source": [
    "start = len(X_train)\n",
    "end = len(X_both)\n",
    "forecast_ar1 = model_forecast_ar1.predict(start=start, end=end - 1, dynamic=False)\n",
    "\n",
    "# plot actual vs predicted values for the same 7-day window for easier viewing\n",
    "plt.plot(sliced[Y_COL].values)\n",
    "plt.plot(forecast_ar1[:168], color='r', linestyle='--')\n",
    "plt.legend(['t', 'AR(1)'], loc=2)\n",
    "plt.title('AR(1) Model Predictions for First 7 Days of Validation Set')\n",
    "plt.ylabel('Temperature (F)')\n",
    "plt.tight_layout()\n",
    "plt.show()"
   ]
  },
  {
   "cell_type": "markdown",
   "id": "647d724b",
   "metadata": {
    "papermill": {
     "duration": 0.005926,
     "end_time": "2022-07-01T15:58:31.150617",
     "exception": false,
     "start_time": "2022-07-01T15:58:31.144691",
     "status": "completed"
    },
    "tags": []
   },
   "source": [
    "We can see that the plot looks almost identical to the plot above, for the `t` and `t-1 baseline` values.\n",
    "\n",
    "Next, we compute the RMSE values."
   ]
  },
  {
   "cell_type": "code",
   "execution_count": 15,
   "id": "942fb935",
   "metadata": {
    "execution": {
     "iopub.execute_input": "2022-07-01T15:58:31.166709Z",
     "iopub.status.busy": "2022-07-01T15:58:31.166041Z",
     "iopub.status.idle": "2022-07-01T15:58:31.168972Z",
     "shell.execute_reply": "2022-07-01T15:58:31.169318Z"
    },
    "papermill": {
     "duration": 0.012929,
     "end_time": "2022-07-01T15:58:31.169471",
     "exception": false,
     "start_time": "2022-07-01T15:58:31.156542",
     "status": "completed"
    },
    "tags": []
   },
   "outputs": [
    {
     "name": "stdout",
     "output_type": "stream",
     "text": [
      "AR(1) RMSE:                   1.692\n",
      "Baseline t-1 RMSE:            1.690\n"
     ]
    }
   ],
   "source": [
    "# compute print RMSE values\n",
    "rmse_ar1 = np.sqrt(mean_squared_error(baseline_val[Y_COL], forecast_ar1))\n",
    "print('AR(1) RMSE:                   {0:.3f}'.format(rmse_ar1))\n",
    "print('Baseline t-1 RMSE:            {0:.3f}'.format(rmse_t1))"
   ]
  },
  {
   "cell_type": "markdown",
   "id": "d2f0305f",
   "metadata": {
    "papermill": {
     "duration": 0.006134,
     "end_time": "2022-07-01T15:58:31.181902",
     "exception": false,
     "start_time": "2022-07-01T15:58:31.175768",
     "status": "completed"
    },
    "tags": []
   },
   "source": [
    "We can see that the RMSE values for the validation set also almost identical.\n",
    "\n",
    "#### 2.2 Create a more complex model\n",
    "\n",
    "One of our baseline models was a `lag 2` model, i.e. `t-2`. We saw that it performed a lot worse than the `t-1` baseline. Intuitively, this makes sense, since we are throwing away a lot of information about the most recent lag `t-1`. However, the `t-2` lag still provides some useful information. In fact, for temperature prediction it's likely that the last few hours can provide some value.\n",
    "\n",
    "Fortunately, our ARIMA model framework provides an easy way to incorporate further lag information. We can construct a model that includes _both_ the `t-1` and `t-2` lags. This is an **AR(2)** model (meaning an auto-regressive model up to lag `2`). We can specify this with the model order parameter `p=2`."
   ]
  },
  {
   "cell_type": "code",
   "execution_count": 16,
   "id": "ca8fd043",
   "metadata": {
    "execution": {
     "iopub.execute_input": "2022-07-01T15:58:31.199440Z",
     "iopub.status.busy": "2022-07-01T15:58:31.198896Z",
     "iopub.status.idle": "2022-07-01T15:58:31.560366Z",
     "shell.execute_reply": "2022-07-01T15:58:31.560730Z"
    },
    "papermill": {
     "duration": 0.372681,
     "end_time": "2022-07-01T15:58:31.560889",
     "exception": false,
     "start_time": "2022-07-01T15:58:31.188208",
     "status": "completed"
    },
    "tags": []
   },
   "outputs": [
    {
     "name": "stderr",
     "output_type": "stream",
     "text": [
      "/Users/patelchess79/opt/anaconda3/lib/python3.8/site-packages/statsmodels/tsa/base/tsa_model.py:524: ValueWarning: No frequency information was provided, so inferred frequency H will be used.\n",
      "  warnings.warn('No frequency information was'\n",
      "/Users/patelchess79/opt/anaconda3/lib/python3.8/site-packages/statsmodels/tsa/base/tsa_model.py:524: ValueWarning: No frequency information was provided, so inferred frequency H will be used.\n",
      "  warnings.warn('No frequency information was'\n"
     ]
    },
    {
     "data": {
      "text/html": [
       "<table class=\"simpletable\">\n",
       "<caption>SARIMAX Results</caption>\n",
       "<tr>\n",
       "  <th>Dep. Variable:</th>    <td>dry_bulb_temp_f</td> <th>  No. Observations:  </th>    <td>14054</td>  \n",
       "</tr>\n",
       "<tr>\n",
       "  <th>Model:</th>           <td>SARIMAX(2, 0, 0)</td> <th>  Log Likelihood     </th> <td>-26867.232</td>\n",
       "</tr>\n",
       "<tr>\n",
       "  <th>Date:</th>            <td>Fri, 01 Jul 2022</td> <th>  AIC                </th>  <td>53740.465</td>\n",
       "</tr>\n",
       "<tr>\n",
       "  <th>Time:</th>                <td>21:28:31</td>     <th>  BIC                </th>  <td>53763.117</td>\n",
       "</tr>\n",
       "<tr>\n",
       "  <th>Sample:</th>             <td>01-01-2016</td>    <th>  HQIC               </th>  <td>53748.005</td>\n",
       "</tr>\n",
       "<tr>\n",
       "  <th></th>                   <td>- 08-08-2017</td>   <th>                     </th>      <td> </td>    \n",
       "</tr>\n",
       "<tr>\n",
       "  <th>Covariance Type:</th>        <td>opg</td>       <th>                     </th>      <td> </td>    \n",
       "</tr>\n",
       "</table>\n",
       "<table class=\"simpletable\">\n",
       "<tr>\n",
       "     <td></td>       <th>coef</th>     <th>std err</th>      <th>z</th>      <th>P>|z|</th>  <th>[0.025</th>    <th>0.975]</th>  \n",
       "</tr>\n",
       "<tr>\n",
       "  <th>ar.L1</th>  <td>    1.3242</td> <td>    0.006</td> <td>  220.175</td> <td> 0.000</td> <td>    1.312</td> <td>    1.336</td>\n",
       "</tr>\n",
       "<tr>\n",
       "  <th>ar.L2</th>  <td>   -0.3248</td> <td>    0.006</td> <td>  -53.852</td> <td> 0.000</td> <td>   -0.337</td> <td>   -0.313</td>\n",
       "</tr>\n",
       "<tr>\n",
       "  <th>sigma2</th> <td>    2.6779</td> <td>    0.020</td> <td>  136.374</td> <td> 0.000</td> <td>    2.639</td> <td>    2.716</td>\n",
       "</tr>\n",
       "</table>\n",
       "<table class=\"simpletable\">\n",
       "<tr>\n",
       "  <th>Ljung-Box (L1) (Q):</th>     <td>48.01</td> <th>  Jarque-Bera (JB):  </th> <td>7579.33</td>\n",
       "</tr>\n",
       "<tr>\n",
       "  <th>Prob(Q):</th>                <td>0.00</td>  <th>  Prob(JB):          </th>  <td>0.00</td>  \n",
       "</tr>\n",
       "<tr>\n",
       "  <th>Heteroskedasticity (H):</th> <td>0.99</td>  <th>  Skew:              </th>  <td>-0.01</td> \n",
       "</tr>\n",
       "<tr>\n",
       "  <th>Prob(H) (two-sided):</th>    <td>0.75</td>  <th>  Kurtosis:          </th>  <td>6.60</td>  \n",
       "</tr>\n",
       "</table><br/><br/>Warnings:<br/>[1] Covariance matrix calculated using the outer product of gradients (complex-step)."
      ],
      "text/plain": [
       "<class 'statsmodels.iolib.summary.Summary'>\n",
       "\"\"\"\n",
       "                               SARIMAX Results                                \n",
       "==============================================================================\n",
       "Dep. Variable:        dry_bulb_temp_f   No. Observations:                14054\n",
       "Model:               SARIMAX(2, 0, 0)   Log Likelihood              -26867.232\n",
       "Date:                Fri, 01 Jul 2022   AIC                          53740.465\n",
       "Time:                        21:28:31   BIC                          53763.117\n",
       "Sample:                    01-01-2016   HQIC                         53748.005\n",
       "                         - 08-08-2017                                         \n",
       "Covariance Type:                  opg                                         \n",
       "==============================================================================\n",
       "                 coef    std err          z      P>|z|      [0.025      0.975]\n",
       "------------------------------------------------------------------------------\n",
       "ar.L1          1.3242      0.006    220.175      0.000       1.312       1.336\n",
       "ar.L2         -0.3248      0.006    -53.852      0.000      -0.337      -0.313\n",
       "sigma2         2.6779      0.020    136.374      0.000       2.639       2.716\n",
       "===================================================================================\n",
       "Ljung-Box (L1) (Q):                  48.01   Jarque-Bera (JB):              7579.33\n",
       "Prob(Q):                              0.00   Prob(JB):                         0.00\n",
       "Heteroskedasticity (H):               0.99   Skew:                            -0.01\n",
       "Prob(H) (two-sided):                  0.75   Kurtosis:                         6.60\n",
       "===================================================================================\n",
       "\n",
       "Warnings:\n",
       "[1] Covariance matrix calculated using the outer product of gradients (complex-step).\n",
       "\"\"\""
      ]
     },
     "execution_count": 16,
     "metadata": {},
     "output_type": "execute_result"
    }
   ],
   "source": [
    "order = (2, 0, 0)\n",
    "model_ar2 = SARIMAX(X_train, order=order)\n",
    "results_ar2 = model_ar2.fit()\n",
    "results_ar2.summary()"
   ]
  },
  {
   "cell_type": "markdown",
   "id": "2c6622d6",
   "metadata": {
    "papermill": {
     "duration": 0.006925,
     "end_time": "2022-07-01T15:58:31.574873",
     "exception": false,
     "start_time": "2022-07-01T15:58:31.567948",
     "status": "completed"
    },
    "tags": []
   },
   "source": [
    "This time, the results table indicates a weight for variable `ar.L1` _and_ `ar.L2`. Note the values are now quite different from `1` (or `0.5` say, for a simple equally-weighted model). Next, we compute the RMSE on the validation set. "
   ]
  },
  {
   "cell_type": "code",
   "execution_count": 17,
   "id": "7e1598dd",
   "metadata": {
    "execution": {
     "iopub.execute_input": "2022-07-01T15:58:31.592936Z",
     "iopub.status.busy": "2022-07-01T15:58:31.592285Z",
     "iopub.status.idle": "2022-07-01T15:58:31.692155Z",
     "shell.execute_reply": "2022-07-01T15:58:31.692505Z"
    },
    "papermill": {
     "duration": 0.111204,
     "end_time": "2022-07-01T15:58:31.692680",
     "exception": false,
     "start_time": "2022-07-01T15:58:31.581476",
     "status": "completed"
    },
    "tags": []
   },
   "outputs": [
    {
     "name": "stdout",
     "output_type": "stream",
     "text": [
      "AR(2) RMSE:                   1.526\n",
      "AR(1) RMSE:                   1.692\n",
      "Baseline t-1 RMSE:            1.690\n"
     ]
    }
   ],
   "source": [
    "full_data_ar2 = SARIMAX(X_both, order=order)\n",
    "model_forecast_ar2 = full_data_ar2.filter(results_ar2.params)\n",
    "\n",
    "start = len(X_train)\n",
    "end = len(X_both)\n",
    "forecast_ar2 = model_forecast_ar2.predict(start=start, end=end - 1, dynamic=False)\n",
    "\n",
    "# compute print RMSE values\n",
    "rmse_ar2 = np.sqrt(mean_squared_error(baseline_val[Y_COL], forecast_ar2))\n",
    "print('AR(2) RMSE:                   {0:.3f}'.format(rmse_ar2))\n",
    "print('AR(1) RMSE:                   {0:.3f}'.format(rmse_ar1))\n",
    "print('Baseline t-1 RMSE:            {0:.3f}'.format(rmse_t1))"
   ]
  },
  {
   "cell_type": "markdown",
   "id": "50beaeba",
   "metadata": {
    "papermill": {
     "duration": 0.00703,
     "end_time": "2022-07-01T15:58:31.706770",
     "exception": false,
     "start_time": "2022-07-01T15:58:31.699740",
     "status": "completed"
    },
    "tags": []
   },
   "source": [
    "We've improved the RMSE value by including information from the first two lags.\n",
    "\n",
    "In fact, you will see that if you continue to increase the `p` parameter value, the RMSE will continue to decrease, indicating that a few recent lags provide useful information to our model.\n",
    "\n",
    "#### 2.3 Incorporate moving averages\n",
    "\n",
    "Finally, what if we also include moving average information in our model? The ARIMA framework makes this easy to do, by setting the order parameter `q`. A value of `q=1` specifies a **MA(1)** model (including the first lag `t-1`), while `q=6` would include all the lags from `t-1` to `t-6`.\n",
    "\n",
    "Note that the moving average model component is a little different from the simple moving or rolling averages computed in the baseline models. The [definition of the MA model](https://en.wikipedia.org/wiki/Moving-average_model) is rather technical, but conceptually you can think of it as using a form of weighted moving average (compared to our baseline which would be a simple, unweighted average).\n",
    "\n",
    "Let's add an MA(1) component to our AR(2) model."
   ]
  },
  {
   "cell_type": "code",
   "execution_count": 18,
   "id": "4c0feb50",
   "metadata": {
    "execution": {
     "iopub.execute_input": "2022-07-01T15:58:31.724197Z",
     "iopub.status.busy": "2022-07-01T15:58:31.723495Z",
     "iopub.status.idle": "2022-07-01T15:58:32.590024Z",
     "shell.execute_reply": "2022-07-01T15:58:32.590401Z"
    },
    "papermill": {
     "duration": 0.877225,
     "end_time": "2022-07-01T15:58:32.590644",
     "exception": false,
     "start_time": "2022-07-01T15:58:31.713419",
     "status": "completed"
    },
    "tags": []
   },
   "outputs": [
    {
     "name": "stderr",
     "output_type": "stream",
     "text": [
      "/Users/patelchess79/opt/anaconda3/lib/python3.8/site-packages/statsmodels/tsa/base/tsa_model.py:524: ValueWarning: No frequency information was provided, so inferred frequency H will be used.\n",
      "  warnings.warn('No frequency information was'\n",
      "/Users/patelchess79/opt/anaconda3/lib/python3.8/site-packages/statsmodels/tsa/base/tsa_model.py:524: ValueWarning: No frequency information was provided, so inferred frequency H will be used.\n",
      "  warnings.warn('No frequency information was'\n"
     ]
    },
    {
     "data": {
      "text/html": [
       "<table class=\"simpletable\">\n",
       "<caption>SARIMAX Results</caption>\n",
       "<tr>\n",
       "  <th>Dep. Variable:</th>    <td>dry_bulb_temp_f</td> <th>  No. Observations:  </th>    <td>14054</td>  \n",
       "</tr>\n",
       "<tr>\n",
       "  <th>Model:</th>           <td>SARIMAX(2, 0, 1)</td> <th>  Log Likelihood     </th> <td>-26667.060</td>\n",
       "</tr>\n",
       "<tr>\n",
       "  <th>Date:</th>            <td>Fri, 01 Jul 2022</td> <th>  AIC                </th>  <td>53342.120</td>\n",
       "</tr>\n",
       "<tr>\n",
       "  <th>Time:</th>                <td>21:28:32</td>     <th>  BIC                </th>  <td>53372.322</td>\n",
       "</tr>\n",
       "<tr>\n",
       "  <th>Sample:</th>             <td>01-01-2016</td>    <th>  HQIC               </th>  <td>53352.172</td>\n",
       "</tr>\n",
       "<tr>\n",
       "  <th></th>                   <td>- 08-08-2017</td>   <th>                     </th>      <td> </td>    \n",
       "</tr>\n",
       "<tr>\n",
       "  <th>Covariance Type:</th>        <td>opg</td>       <th>                     </th>      <td> </td>    \n",
       "</tr>\n",
       "</table>\n",
       "<table class=\"simpletable\">\n",
       "<tr>\n",
       "     <td></td>       <th>coef</th>     <th>std err</th>      <th>z</th>      <th>P>|z|</th>  <th>[0.025</th>    <th>0.975]</th>  \n",
       "</tr>\n",
       "<tr>\n",
       "  <th>ar.L1</th>  <td>    1.6697</td> <td>    0.015</td> <td>  114.448</td> <td> 0.000</td> <td>    1.641</td> <td>    1.698</td>\n",
       "</tr>\n",
       "<tr>\n",
       "  <th>ar.L2</th>  <td>   -0.6700</td> <td>    0.015</td> <td>  -45.898</td> <td> 0.000</td> <td>   -0.699</td> <td>   -0.641</td>\n",
       "</tr>\n",
       "<tr>\n",
       "  <th>ma.L1</th>  <td>   -0.3825</td> <td>    0.016</td> <td>  -23.348</td> <td> 0.000</td> <td>   -0.415</td> <td>   -0.350</td>\n",
       "</tr>\n",
       "<tr>\n",
       "  <th>sigma2</th> <td>    2.6026</td> <td>    0.019</td> <td>  139.868</td> <td> 0.000</td> <td>    2.566</td> <td>    2.639</td>\n",
       "</tr>\n",
       "</table>\n",
       "<table class=\"simpletable\">\n",
       "<tr>\n",
       "  <th>Ljung-Box (L1) (Q):</th>     <td>9.80</td> <th>  Jarque-Bera (JB):  </th> <td>8834.61</td>\n",
       "</tr>\n",
       "<tr>\n",
       "  <th>Prob(Q):</th>                <td>0.00</td> <th>  Prob(JB):          </th>  <td>0.00</td>  \n",
       "</tr>\n",
       "<tr>\n",
       "  <th>Heteroskedasticity (H):</th> <td>1.00</td> <th>  Skew:              </th>  <td>-0.04</td> \n",
       "</tr>\n",
       "<tr>\n",
       "  <th>Prob(H) (two-sided):</th>    <td>0.92</td> <th>  Kurtosis:          </th>  <td>6.88</td>  \n",
       "</tr>\n",
       "</table><br/><br/>Warnings:<br/>[1] Covariance matrix calculated using the outer product of gradients (complex-step)."
      ],
      "text/plain": [
       "<class 'statsmodels.iolib.summary.Summary'>\n",
       "\"\"\"\n",
       "                               SARIMAX Results                                \n",
       "==============================================================================\n",
       "Dep. Variable:        dry_bulb_temp_f   No. Observations:                14054\n",
       "Model:               SARIMAX(2, 0, 1)   Log Likelihood              -26667.060\n",
       "Date:                Fri, 01 Jul 2022   AIC                          53342.120\n",
       "Time:                        21:28:32   BIC                          53372.322\n",
       "Sample:                    01-01-2016   HQIC                         53352.172\n",
       "                         - 08-08-2017                                         \n",
       "Covariance Type:                  opg                                         \n",
       "==============================================================================\n",
       "                 coef    std err          z      P>|z|      [0.025      0.975]\n",
       "------------------------------------------------------------------------------\n",
       "ar.L1          1.6697      0.015    114.448      0.000       1.641       1.698\n",
       "ar.L2         -0.6700      0.015    -45.898      0.000      -0.699      -0.641\n",
       "ma.L1         -0.3825      0.016    -23.348      0.000      -0.415      -0.350\n",
       "sigma2         2.6026      0.019    139.868      0.000       2.566       2.639\n",
       "===================================================================================\n",
       "Ljung-Box (L1) (Q):                   9.80   Jarque-Bera (JB):              8834.61\n",
       "Prob(Q):                              0.00   Prob(JB):                         0.00\n",
       "Heteroskedasticity (H):               1.00   Skew:                            -0.04\n",
       "Prob(H) (two-sided):                  0.92   Kurtosis:                         6.88\n",
       "===================================================================================\n",
       "\n",
       "Warnings:\n",
       "[1] Covariance matrix calculated using the outer product of gradients (complex-step).\n",
       "\"\"\""
      ]
     },
     "execution_count": 18,
     "metadata": {},
     "output_type": "execute_result"
    }
   ],
   "source": [
    "order = (2, 0, 1)\n",
    "model_ar2ma1 = SARIMAX(X_train, order=order)\n",
    "results_ar2ma1 = model_ar2ma1.fit()\n",
    "results_ar2ma1.summary()"
   ]
  },
  {
   "cell_type": "markdown",
   "id": "d36d0aac",
   "metadata": {
    "papermill": {
     "duration": 0.006985,
     "end_time": "2022-07-01T15:58:32.604760",
     "exception": false,
     "start_time": "2022-07-01T15:58:32.597775",
     "status": "completed"
    },
    "tags": []
   },
   "source": [
    "We see the results table shows an additional weight value for `ma.L1`, our MA(1) component. Next, we compare the RMSE to the other models and finally plot all the model forecasts together - _note_ we use a much smaller 48-hour window to make the plot readable for illustrative purposes. "
   ]
  },
  {
   "cell_type": "code",
   "execution_count": 19,
   "id": "5c1e5f6d",
   "metadata": {
    "execution": {
     "iopub.execute_input": "2022-07-01T15:58:32.624653Z",
     "iopub.status.busy": "2022-07-01T15:58:32.623573Z",
     "iopub.status.idle": "2022-07-01T15:58:32.736373Z",
     "shell.execute_reply": "2022-07-01T15:58:32.736798Z"
    },
    "papermill": {
     "duration": 0.125109,
     "end_time": "2022-07-01T15:58:32.736960",
     "exception": false,
     "start_time": "2022-07-01T15:58:32.611851",
     "status": "completed"
    },
    "tags": []
   },
   "outputs": [
    {
     "name": "stdout",
     "output_type": "stream",
     "text": [
      "AR(2) MA(1) RMSE:             1.491\n",
      "AR(2) RMSE:                   1.526\n",
      "AR(1) RMSE:                   1.692\n",
      "Baseline t-1 RMSE:            1.690\n"
     ]
    }
   ],
   "source": [
    "full_data_ar2ma1 = SARIMAX(X_both, order=order)\n",
    "model_forecast_ar2ma1 = full_data_ar2ma1.filter(results_ar2ma1.params)\n",
    "\n",
    "start = len(X_train)\n",
    "end = len(X_both)\n",
    "forecast_ar2ma1 = model_forecast_ar2ma1.predict(start=start, end=end - 1, dynamic=False)\n",
    "\n",
    "# compute print RMSE values\n",
    "rmse_ar2ma1 = np.sqrt(mean_squared_error(baseline_val[Y_COL], forecast_ar2ma1))\n",
    "print('AR(2) MA(1) RMSE:             {0:.3f}'.format(rmse_ar2ma1))\n",
    "print('AR(2) RMSE:                   {0:.3f}'.format(rmse_ar2))\n",
    "print('AR(1) RMSE:                   {0:.3f}'.format(rmse_ar1))\n",
    "print('Baseline t-1 RMSE:            {0:.3f}'.format(rmse_t1))"
   ]
  },
  {
   "cell_type": "code",
   "execution_count": 20,
   "id": "dd211d5f",
   "metadata": {
    "execution": {
     "iopub.execute_input": "2022-07-01T15:58:32.763433Z",
     "iopub.status.busy": "2022-07-01T15:58:32.762758Z",
     "iopub.status.idle": "2022-07-01T15:58:32.899876Z",
     "shell.execute_reply": "2022-07-01T15:58:32.900237Z"
    },
    "papermill": {
     "duration": 0.156283,
     "end_time": "2022-07-01T15:58:32.900395",
     "exception": false,
     "start_time": "2022-07-01T15:58:32.744112",
     "status": "completed"
    },
    "tags": []
   },
   "outputs": [
    {
     "data": {
      "image/png": "[encoded data removed]",
      "text/plain": [
       "<Figure size 600x400 with 1 Axes>"
      ]
     },
     "metadata": {
      "needs_background": "light"
     },
     "output_type": "display_data"
    }
   ],
   "source": [
    "# plot actual vs predicted values for a smaller 2-day window for easier viewing\n",
    "hrs = 48\n",
    "plt.plot(sliced[Y_COL][:hrs].values)\n",
    "plt.plot(forecast_ar1[:hrs], color='r', linestyle='--')\n",
    "plt.plot(forecast_ar2[:hrs], color='g', linestyle='--')\n",
    "plt.plot(forecast_ar2ma1[:hrs], color='c', linestyle='--')\n",
    "plt.legend(['t', 'AR(1)', 'AR(2)', 'AR(2) MA(1)'], loc=2, ncol=1)\n",
    "plt.title('ARIMA Model Predictions for First 48 hours of Validation Set')\n",
    "plt.ylabel('Temperature (F)')\n",
    "plt.tight_layout()\n",
    "plt.show()"
   ]
  },
  {
   "cell_type": "markdown",
   "id": "7420deae",
   "metadata": {
    "papermill": {
     "duration": 0.007552,
     "end_time": "2022-07-01T15:58:32.915524",
     "exception": false,
     "start_time": "2022-07-01T15:58:32.907972",
     "status": "completed"
    },
    "tags": []
   },
   "source": [
    "We've again managed to reduce the RMSE value for our model, indicating that adding the MA(1) component has improved our forecast!\n",
    "\n",
    "Congratulations! You've applied the basics of time-series analysis for forecasting hourly temperatures. See if you can further improve the RMSE values by exploring the different values for the model parameters `p`, `q` and even `d`!\n",
    "\n",
    "<a id=\"authors\"></a> \n",
    "### Authors\n",
    "\n",
    "This notebook was created by the [Center for Open-Source Data & AI Technologies](http://codait.org).\n",
    "\n",
    "Copyright © 2019 IBM. This notebook and its source code are released under the terms of the MIT License."
   ]
  }
 ],
 "metadata": {
  "kernelspec": {
   "display_name": "Python 3",
   "language": "python",
   "name": "python3"
  },
  "language_info": {
   "codemirror_mode": {
    "name": "ipython",
    "version": 3
   },
   "file_extension": ".py",
   "mimetype": "text/x-python",
   "name": "python",
   "nbconvert_exporter": "python",
   "pygments_lexer": "ipython3",
   "version": "3.8.8"
  },
  "papermill": {
   "duration": 21.094637,
   "end_time": "2022-07-01T15:58:34.223045",
   "environment_variables": {},
   "exception": null,
   "input_path": "/Users/patelchess79/Desktop/examples/pipelines/dax_noaa_weather_data/Part 3 - Time Series Forecasting.ipynb",
   "output_path": "/Users/patelchess79/Desktop/examples/pipelines/dax_noaa_weather_data/Part 3 - Time Series Forecasting.ipynb",
   "parameters": {},
   "start_time": "2022-07-01T15:58:13.128408",
   "version": "2.1.1"
  }
 },
 "nbformat": 4,
 "nbformat_minor": 5
}