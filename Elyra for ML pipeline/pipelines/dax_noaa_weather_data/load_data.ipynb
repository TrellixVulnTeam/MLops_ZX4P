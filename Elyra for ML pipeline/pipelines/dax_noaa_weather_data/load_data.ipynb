{
 "cells": [
  {
   "cell_type": "markdown",
   "id": "3a9cac19",
   "metadata": {
    "papermill": {
     "duration": 0.004992,
     "end_time": "2022-07-01T15:57:44.497909",
     "exception": false,
     "start_time": "2022-07-01T15:57:44.492917",
     "status": "completed"
    },
    "tags": []
   },
   "source": [
    "## Download a data set\n",
    "\n",
    "This notebook downloads a data set file from a public location. If the data set file is a compressed archive it will be decompressed. Upon completion the raw data set files  are located in the `data\\` directory.\n",
    "\n",
    "This notebook requires the following environment variables:\n",
    " -  `DATASET_URL` Public data set URL, e.g. `https://dax-cdn.cdn.appdomain.cloud/dax-fashion-mnist/1.0.2/fashion-mnist.tar.gz`"
   ]
  },
  {
   "cell_type": "code",
   "execution_count": 1,
   "id": "a2cfdb62",
   "metadata": {
    "execution": {
     "iopub.execute_input": "2022-07-01T15:57:44.507108Z",
     "iopub.status.busy": "2022-07-01T15:57:44.506354Z",
     "iopub.status.idle": "2022-07-01T15:57:44.569607Z",
     "shell.execute_reply": "2022-07-01T15:57:44.570006Z"
    },
    "papermill": {
     "duration": 0.06954,
     "end_time": "2022-07-01T15:57:44.570262",
     "exception": false,
     "start_time": "2022-07-01T15:57:44.500722",
     "status": "completed"
    },
    "tags": []
   },
   "outputs": [],
   "source": [
    "import glob\n",
    "import os\n",
    "from pathlib import Path\n",
    "import requests\n",
    "import tarfile\n",
    "from urllib.parse import urlparse"
   ]
  },
  {
   "cell_type": "markdown",
   "id": "34833e2b",
   "metadata": {
    "papermill": {
     "duration": 0.001579,
     "end_time": "2022-07-01T15:57:44.573554",
     "exception": false,
     "start_time": "2022-07-01T15:57:44.571975",
     "status": "completed"
    },
    "tags": []
   },
   "source": [
    "Verify that the `DATASET_URL` environment variable is set. If it is not set, a RuntimeError is raised."
   ]
  },
  {
   "cell_type": "code",
   "execution_count": 2,
   "id": "f3294d21",
   "metadata": {
    "execution": {
     "iopub.execute_input": "2022-07-01T15:57:44.579711Z",
     "iopub.status.busy": "2022-07-01T15:57:44.579155Z",
     "iopub.status.idle": "2022-07-01T15:57:44.580951Z",
     "shell.execute_reply": "2022-07-01T15:57:44.581346Z"
    },
    "papermill": {
     "duration": 0.006422,
     "end_time": "2022-07-01T15:57:44.581506",
     "exception": false,
     "start_time": "2022-07-01T15:57:44.575084",
     "status": "completed"
    },
    "tags": []
   },
   "outputs": [],
   "source": [
    "data_file = os.getenv('DATASET_URL',\n",
    "                      'https://dax-cdn.cdn.appdomain.cloud/'\n",
    "                      'dax-noaa-weather-data-jfk-airport/1.1.4/'\n",
    "                      'noaa-weather-data-jfk-airport.tar.gz')"
   ]
  },
  {
   "cell_type": "markdown",
   "id": "2f895cae",
   "metadata": {
    "papermill": {
     "duration": 0.001565,
     "end_time": "2022-07-01T15:57:44.584592",
     "exception": false,
     "start_time": "2022-07-01T15:57:44.583027",
     "status": "completed"
    },
    "tags": []
   },
   "source": [
    "Download the data set from the location specified in `dataset_url`, extract it (if it is compressed) and store it in the directory identified by `data_dir_name`."
   ]
  },
  {
   "cell_type": "code",
   "execution_count": 3,
   "id": "9008aa25",
   "metadata": {
    "execution": {
     "iopub.execute_input": "2022-07-01T15:57:44.594037Z",
     "iopub.status.busy": "2022-07-01T15:57:44.593375Z",
     "iopub.status.idle": "2022-07-01T15:57:45.785400Z",
     "shell.execute_reply": "2022-07-01T15:57:45.785708Z"
    },
    "papermill": {
     "duration": 1.19975,
     "end_time": "2022-07-01T15:57:45.785866",
     "exception": false,
     "start_time": "2022-07-01T15:57:44.586116",
     "status": "completed"
    },
    "tags": []
   },
   "outputs": [
    {
     "name": "stdout",
     "output_type": "stream",
     "text": [
      "Downloading data file https://dax-cdn.cdn.appdomain.cloud/dax-noaa-weather-data-jfk-airport/1.1.4/noaa-weather-data-jfk-airport.tar.gz ...\n"
     ]
    },
    {
     "name": "stdout",
     "output_type": "stream",
     "text": [
      "Saving downloaded file \"noaa-weather-data-jfk-airport.tar.gz\" as ...\n",
      "Extracting downloaded file in directory \"data\" ...\n",
      "Removing downloaded file ...\n"
     ]
    }
   ],
   "source": [
    "data_dir_name = 'data'\n",
    "\n",
    "print('Downloading data file {} ...'.format(data_file))\n",
    "r = requests.get(data_file)\n",
    "if r.status_code != 200:\n",
    "    raise RuntimeError('Could not fetch {}: HTTP status code {}'\n",
    "                       .format(data_file, r.status_code))\n",
    "else:\n",
    "    # extract data set file name from URL\n",
    "    data_file_name = Path((urlparse(data_file).path)).name\n",
    "    # create the directory where the downloaded file will be stored\n",
    "    data_dir = Path(data_dir_name)\n",
    "    data_dir.mkdir(parents=True, exist_ok=True)\n",
    "    downloaded_data_file = data_dir / data_file_name\n",
    "\n",
    "    print('Saving downloaded file \"{}\" as ...'.format(data_file_name))\n",
    "    with open(downloaded_data_file, 'wb') as downloaded_file:\n",
    "        downloaded_file.write(r.content)\n",
    "\n",
    "    if r.headers['content-type'] == 'application/x-tar':\n",
    "        print('Extracting downloaded file in directory \"{}\" ...'\n",
    "              .format(data_dir))\n",
    "        with tarfile.open(downloaded_data_file, 'r') as tar:\n",
    "            tar.extractall(data_dir)\n",
    "        print('Removing downloaded file ...')\n",
    "        downloaded_data_file.unlink()"
   ]
  },
  {
   "cell_type": "markdown",
   "id": "a914051e",
   "metadata": {
    "papermill": {
     "duration": 0.001436,
     "end_time": "2022-07-01T15:57:45.789003",
     "exception": false,
     "start_time": "2022-07-01T15:57:45.787567",
     "status": "completed"
    },
    "tags": []
   },
   "source": [
    "Display list of extracted data files"
   ]
  },
  {
   "cell_type": "code",
   "execution_count": 4,
   "id": "55a3309a",
   "metadata": {
    "execution": {
     "iopub.execute_input": "2022-07-01T15:57:45.794834Z",
     "iopub.status.busy": "2022-07-01T15:57:45.794289Z",
     "iopub.status.idle": "2022-07-01T15:57:45.796979Z",
     "shell.execute_reply": "2022-07-01T15:57:45.797361Z"
    },
    "papermill": {
     "duration": 0.007109,
     "end_time": "2022-07-01T15:57:45.797519",
     "exception": false,
     "start_time": "2022-07-01T15:57:45.790410",
     "status": "completed"
    },
    "tags": []
   },
   "outputs": [
    {
     "name": "stdout",
     "output_type": "stream",
     "text": [
      "data/noaa-weather-data-jfk-airport\n",
      "data/noaa-weather-data-jfk-airport/clean_data.py\n",
      "data/noaa-weather-data-jfk-airport/jfk_weather_cleaned.csv\n",
      "data/noaa-weather-data-jfk-airport/jfk_weather.csv\n",
      "data/noaa-weather-data-jfk-airport/README.txt\n",
      "data/noaa-weather-data-jfk-airport/LICENSE.txt\n"
     ]
    }
   ],
   "source": [
    "for entry in glob.glob(data_dir_name + \"/**/*\", recursive=True):\n",
    "    print(entry)"
   ]
  }
 ],
 "metadata": {
  "kernelspec": {
   "display_name": "Python 3",
   "language": "python",
   "name": "python3"
  },
  "language_info": {
   "codemirror_mode": {
    "name": "ipython",
    "version": 3
   },
   "file_extension": ".py",
   "mimetype": "text/x-python",
   "name": "python",
   "nbconvert_exporter": "python",
   "pygments_lexer": "ipython3",
   "version": "3.8.8"
  },
  "papermill": {
   "duration": 2.705729,
   "end_time": "2022-07-01T15:57:46.108721",
   "environment_variables": {},
   "exception": null,
   "input_path": "/Users/patelchess79/Desktop/examples/pipelines/dax_noaa_weather_data/load_data.ipynb",
   "output_path": "/Users/patelchess79/Desktop/examples/pipelines/dax_noaa_weather_data/load_data.ipynb",
   "parameters": {},
   "start_time": "2022-07-01T15:57:43.402992",
   "version": "2.1.1"
  }
 },
 "nbformat": 4,
 "nbformat_minor": 5
}